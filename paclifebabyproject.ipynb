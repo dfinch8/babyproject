{
 "cells": [
  {
   "cell_type": "code",
   "execution_count": 1,
   "id": "8bed0013-e802-4e32-a2b9-d07017d0d3f8",
   "metadata": {},
   "outputs": [],
   "source": [
    "import json\n",
    "#json names changed for simplicity\n",
    "applicant1 = json.load(open(\"baby1.json\"))\n",
    "applicant2 = json.load(open(\"baby2.json\"))\n",
    "applicant3 = json.load(open(\"baby3.json\"))"
   ]
  },
  {
   "cell_type": "code",
   "execution_count": 2,
   "id": "f7ab5da8",
   "metadata": {},
   "outputs": [
    {
     "data": {
      "text/html": [
       "<div>\n",
       "<style scoped>\n",
       "    .dataframe tbody tr th:only-of-type {\n",
       "        vertical-align: middle;\n",
       "    }\n",
       "\n",
       "    .dataframe tbody tr th {\n",
       "        vertical-align: top;\n",
       "    }\n",
       "\n",
       "    .dataframe thead th {\n",
       "        text-align: right;\n",
       "    }\n",
       "</style>\n",
       "<table border=\"1\" class=\"dataframe\">\n",
       "  <thead>\n",
       "    <tr style=\"text-align: right;\">\n",
       "      <th></th>\n",
       "      <th>Key</th>\n",
       "      <th>Description</th>\n",
       "    </tr>\n",
       "  </thead>\n",
       "  <tbody>\n",
       "    <tr>\n",
       "      <th>0</th>\n",
       "      <td>Fixed</td>\n",
       "      <td>Fixed</td>\n",
       "    </tr>\n",
       "    <tr>\n",
       "      <th>1</th>\n",
       "      <td>FixedLT</td>\n",
       "      <td>FixedLT</td>\n",
       "    </tr>\n",
       "    <tr>\n",
       "      <th>2</th>\n",
       "      <td>1YrA</td>\n",
       "      <td>1-Year Indexed Account</td>\n",
       "    </tr>\n",
       "    <tr>\n",
       "      <th>3</th>\n",
       "      <td>1YrD</td>\n",
       "      <td>1-Year No Cap Indexed Account</td>\n",
       "    </tr>\n",
       "    <tr>\n",
       "      <th>4</th>\n",
       "      <td>1YrF</td>\n",
       "      <td>1-Year High Cap Plus Indexed Account</td>\n",
       "    </tr>\n",
       "    <tr>\n",
       "      <th>5</th>\n",
       "      <td>Var</td>\n",
       "      <td>Variable Account</td>\n",
       "    </tr>\n",
       "  </tbody>\n",
       "</table>\n",
       "</div>"
      ],
      "text/plain": [
       "       Key                           Description\n",
       "0    Fixed                                 Fixed\n",
       "1  FixedLT                               FixedLT\n",
       "2     1YrA                1-Year Indexed Account\n",
       "3     1YrD         1-Year No Cap Indexed Account\n",
       "4     1YrF  1-Year High Cap Plus Indexed Account\n",
       "5      Var                      Variable Account"
      ]
     },
     "execution_count": 2,
     "metadata": {},
     "output_type": "execute_result"
    }
   ],
   "source": [
    "#lists account types\n",
    "import pandas as pd\n",
    "df_accounts = pd.json_normalize(applicant1, record_path=['AccountAllocations','Accounts'])[['Key','Description']]\n",
    "df_accounts"
   ]
  },
  {
   "cell_type": "code",
   "execution_count": 12,
   "id": "c584d5be",
   "metadata": {},
   "outputs": [
    {
     "data": {
      "text/html": [
       "<div>\n",
       "<style scoped>\n",
       "    .dataframe tbody tr th:only-of-type {\n",
       "        vertical-align: middle;\n",
       "    }\n",
       "\n",
       "    .dataframe tbody tr th {\n",
       "        vertical-align: top;\n",
       "    }\n",
       "\n",
       "    .dataframe thead th {\n",
       "        text-align: right;\n",
       "    }\n",
       "</style>\n",
       "<table border=\"1\" class=\"dataframe\">\n",
       "  <thead>\n",
       "    <tr style=\"text-align: right;\">\n",
       "      <th></th>\n",
       "      <th>Account</th>\n",
       "      <th>Allocation 1</th>\n",
       "      <th>Allocation 2</th>\n",
       "      <th>Allocation 3</th>\n",
       "    </tr>\n",
       "  </thead>\n",
       "  <tbody>\n",
       "    <tr>\n",
       "      <th>0</th>\n",
       "      <td>Vanguard</td>\n",
       "      <td>100%</td>\n",
       "      <td>100%</td>\n",
       "      <td>100%</td>\n",
       "    </tr>\n",
       "  </tbody>\n",
       "</table>\n",
       "</div>"
      ],
      "text/plain": [
       "    Account Allocation 1 Allocation 2 Allocation 3\n",
       "0  Vanguard         100%         100%         100%"
      ]
     },
     "execution_count": 12,
     "metadata": {},
     "output_type": "execute_result"
    }
   ],
   "source": [
    "df_allocations1 = pd.json_normalize(applicant1,record_path=['FundAllocationFuture'])[['Manager','Allocation']]\n",
    "df_allocations2 = pd.json_normalize(applicant2,record_path=['FundAllocationFuture'])[['Manager','Allocation']]\n",
    "df_allocations3 = pd.json_normalize(applicant3,record_path=['FundAllocationFuture'])[['Manager','Allocation']]\n",
    "merged_allocations = df_allocations1.merge(df_allocations2, on='Manager' )\n",
    "merged_allocations = merged_allocations.merge(df_allocations3, on='Manager' )\n",
    "merged_allocations.columns=[\"Account\",\"Allocation 1\",\"Allocation 2\",\"Allocation 3\"]\n",
    "merged_allocations"
   ]
  },
  {
   "cell_type": "code",
   "execution_count": 13,
   "id": "30f1a620",
   "metadata": {},
   "outputs": [
    {
     "data": {
      "text/html": [
       "<div>\n",
       "<style scoped>\n",
       "    .dataframe tbody tr th:only-of-type {\n",
       "        vertical-align: middle;\n",
       "    }\n",
       "\n",
       "    .dataframe tbody tr th {\n",
       "        vertical-align: top;\n",
       "    }\n",
       "\n",
       "    .dataframe thead th {\n",
       "        text-align: right;\n",
       "    }\n",
       "</style>\n",
       "<table border=\"1\" class=\"dataframe\">\n",
       "  <thead>\n",
       "    <tr style=\"text-align: right;\">\n",
       "      <th></th>\n",
       "      <th>Name</th>\n",
       "      <th>Category</th>\n",
       "    </tr>\n",
       "  </thead>\n",
       "  <tbody>\n",
       "    <tr>\n",
       "      <th>0</th>\n",
       "      <td>Conversion Rider</td>\n",
       "      <td>Automatic</td>\n",
       "    </tr>\n",
       "    <tr>\n",
       "      <th>1</th>\n",
       "      <td>Minimum Indexed Benefit Rider</td>\n",
       "      <td>Automatic</td>\n",
       "    </tr>\n",
       "    <tr>\n",
       "      <th>2</th>\n",
       "      <td>Overloan Protection 3 Rider</td>\n",
       "      <td>Automatic</td>\n",
       "    </tr>\n",
       "    <tr>\n",
       "      <th>3</th>\n",
       "      <td>Accelerated Death Benefit Rider for Chronic an...</td>\n",
       "      <td>Optional</td>\n",
       "    </tr>\n",
       "    <tr>\n",
       "      <th>4</th>\n",
       "      <td>No Lapse Guarantee Rider (Short-Term No Lapse ...</td>\n",
       "      <td>Automatic</td>\n",
       "    </tr>\n",
       "    <tr>\n",
       "      <th>5</th>\n",
       "      <td>Accelerated Death Benefit Rider for Terminal I...</td>\n",
       "      <td>Optional</td>\n",
       "    </tr>\n",
       "  </tbody>\n",
       "</table>\n",
       "</div>"
      ],
      "text/plain": [
       "                                                Name   Category\n",
       "0                                   Conversion Rider  Automatic\n",
       "1                      Minimum Indexed Benefit Rider  Automatic\n",
       "2                        Overloan Protection 3 Rider  Automatic\n",
       "3  Accelerated Death Benefit Rider for Chronic an...   Optional\n",
       "4  No Lapse Guarantee Rider (Short-Term No Lapse ...  Automatic\n",
       "5  Accelerated Death Benefit Rider for Terminal I...   Optional"
      ]
     },
     "execution_count": 13,
     "metadata": {},
     "output_type": "execute_result"
    }
   ],
   "source": [
    "#riders\n",
    "riders = pd.json_normalize(applicant1, record_path=['Riders'])[['Name','Category']]\n",
    "riders"
   ]
  }
 ],
 "metadata": {
  "kernelspec": {
   "display_name": "Python 3 (ipykernel)",
   "language": "python",
   "name": "python3"
  },
  "language_info": {
   "codemirror_mode": {
    "name": "ipython",
    "version": 3
   },
   "file_extension": ".py",
   "mimetype": "text/x-python",
   "name": "python",
   "nbconvert_exporter": "python",
   "pygments_lexer": "ipython3",
   "version": "3.8.8"
  }
 },
 "nbformat": 4,
 "nbformat_minor": 5
}
