{
 "cells": [
  {
   "cell_type": "code",
   "execution_count": 20,
   "id": "8bed0013-e802-4e32-a2b9-d07017d0d3f8",
   "metadata": {},
   "outputs": [],
   "source": [
    "import json\n",
    "#json names changed for simplicity\n",
    "applicant1 = json.load(open(\"baby1.json\"))\n",
    "applicant2 = json.load(open(\"baby2.json\"))\n",
    "applicant3 = json.load(open(\"baby3.json\"))"
   ]
  },
  {
   "cell_type": "code",
   "execution_count": 59,
   "id": "bbf250b9-42a5-492b-80d4-a36631724d1b",
   "metadata": {},
   "outputs": [
    {
     "name": "stdout",
     "output_type": "stream",
     "text": [
      "Conversion Rider (Automatic)\n",
      "\n",
      "Minimum Indexed Benefit Rider (Automatic)\n",
      "\n",
      "Overloan Protection 3 Rider (Automatic)\n",
      "\n",
      "Accelerated Death Benefit Rider for Chronic and Terminal Illness (Premier Living Benefits Rider 2) (Optional)\n",
      "\n",
      "No Lapse Guarantee Rider (Short-Term No Lapse Guarantee) (Automatic)\n",
      "\n",
      "Accelerated Death Benefit Rider for Terminal Illness (Terminal Illness Rider) (Optional)\n",
      "\n"
     ]
    }
   ],
   "source": [
    "#list all rider for illustration ID: 0a58...\n",
    "riders = list()\n",
    "for rider in applicant1['Riders']:\n",
    "    riders.append(rider['Name'] + \" (\" + rider['Category'] + \")\")\n",
    "for i in riders:\n",
    "    print(f\"{i}\\n\")"
   ]
  },
  {
   "cell_type": "code",
   "execution_count": 26,
   "id": "b26e983c-42b1-4d26-b63b-3af4153d69ff",
   "metadata": {},
   "outputs": [
    {
     "name": "stdout",
     "output_type": "stream",
     "text": [
      "['Fixed', 'FixedLT', '1YrA', '1YrD', '1YrF', 'Var']\n"
     ]
    }
   ],
   "source": [
    "#lists account types\n",
    "accounts = list()\n",
    "for account in applicant1['AccountAllocations']['Accounts']:\n",
    "    accounts.append(account['Key'])\n",
    "print(accounts)"
   ]
  },
  {
   "cell_type": "code",
   "execution_count": 43,
   "id": "43e427a5-1cca-48dd-8668-e84b94cca678",
   "metadata": {},
   "outputs": [
    {
     "data": {
      "text/html": [
       "<div>\n",
       "<style scoped>\n",
       "    .dataframe tbody tr th:only-of-type {\n",
       "        vertical-align: middle;\n",
       "    }\n",
       "\n",
       "    .dataframe tbody tr th {\n",
       "        vertical-align: top;\n",
       "    }\n",
       "\n",
       "    .dataframe thead th {\n",
       "        text-align: right;\n",
       "    }\n",
       "</style>\n",
       "<table border=\"1\" class=\"dataframe\">\n",
       "  <thead>\n",
       "    <tr style=\"text-align: right;\">\n",
       "      <th></th>\n",
       "      <th>Fixed</th>\n",
       "      <th>FixedLT</th>\n",
       "      <th>1YrA</th>\n",
       "      <th>1YrD</th>\n",
       "      <th>1YrF</th>\n",
       "      <th>Var</th>\n",
       "    </tr>\n",
       "  </thead>\n",
       "  <tbody>\n",
       "    <tr>\n",
       "      <th>0</th>\n",
       "      <td>0.0</td>\n",
       "      <td>0.0</td>\n",
       "      <td>0.0</td>\n",
       "      <td>0.0</td>\n",
       "      <td>0.0</td>\n",
       "      <td>100.0</td>\n",
       "    </tr>\n",
       "    <tr>\n",
       "      <th>1</th>\n",
       "      <td>0.0</td>\n",
       "      <td>0.0</td>\n",
       "      <td>0.0</td>\n",
       "      <td>0.0</td>\n",
       "      <td>0.0</td>\n",
       "      <td>100.0</td>\n",
       "    </tr>\n",
       "    <tr>\n",
       "      <th>2</th>\n",
       "      <td>0.0</td>\n",
       "      <td>0.0</td>\n",
       "      <td>0.0</td>\n",
       "      <td>0.0</td>\n",
       "      <td>0.0</td>\n",
       "      <td>100.0</td>\n",
       "    </tr>\n",
       "  </tbody>\n",
       "</table>\n",
       "</div>"
      ],
      "text/plain": [
       "  Fixed FixedLT 1YrA 1YrD 1YrF    Var\n",
       "0   0.0     0.0  0.0  0.0  0.0  100.0\n",
       "1   0.0     0.0  0.0  0.0  0.0  100.0\n",
       "2   0.0     0.0  0.0  0.0  0.0  100.0"
      ]
     },
     "execution_count": 43,
     "metadata": {},
     "output_type": "execute_result"
    }
   ],
   "source": [
    "#allocation by 3 applications\n",
    "import pandas as pd\n",
    "percents = pd.DataFrame(columns = accounts)\n",
    "\n",
    "for account in applicant1['AccountAllocations']['Accounts']:\n",
    "    percents.loc[0,account['Key']] = account['FutureAllocations'][0]['AllocationPct']\n",
    "for account in applicant2['AccountAllocations']['Accounts']:\n",
    "    percents.loc[1,account['Key']] = account['FutureAllocations'][0]['AllocationPct']\n",
    "for account in applicant3['AccountAllocations']['Accounts']:\n",
    "    percents.loc[2,account['Key']] = account['FutureAllocations'][0]['AllocationPct']\n",
    "percents.head()"
   ]
  },
  {
   "cell_type": "code",
   "execution_count": null,
   "id": "29a09593-9062-4ffa-ba4f-2961d02074d6",
   "metadata": {},
   "outputs": [],
   "source": [
    "applicant3['AccountAllocations']['Accounts']"
   ]
  },
  {
   "cell_type": "code",
   "execution_count": null,
   "id": "62fb24e0-686c-4806-a99f-2689ff755ece",
   "metadata": {},
   "outputs": [],
   "source": []
  }
 ],
 "metadata": {
  "kernelspec": {
   "display_name": "Python 3 (ipykernel)",
   "language": "python",
   "name": "python3"
  },
  "language_info": {
   "codemirror_mode": {
    "name": "ipython",
    "version": 3
   },
   "file_extension": ".py",
   "mimetype": "text/x-python",
   "name": "python",
   "nbconvert_exporter": "python",
   "pygments_lexer": "ipython3",
   "version": "3.8.8"
  }
 },
 "nbformat": 4,
 "nbformat_minor": 5
}
